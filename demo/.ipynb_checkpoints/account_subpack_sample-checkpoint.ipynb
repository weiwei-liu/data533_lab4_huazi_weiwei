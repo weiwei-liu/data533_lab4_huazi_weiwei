{
 "cells": [
  {
   "cell_type": "code",
   "execution_count": 9,
   "metadata": {},
   "outputs": [],
   "source": [
    "import os\n",
    "import sys\n",
    "if os.path.dirname(os.getcwd()) not in sys.path:\n",
    "    sys.path.append(os.path.dirname(os.getcwd()))\n",
    "\n",
    "from tradingaccount.account.usaccount import usAccount\n",
    "import pandas as pd\n",
    "from datetime import datetime"
   ]
  },
  {
   "cell_type": "code",
   "execution_count": 10,
   "metadata": {},
   "outputs": [],
   "source": [
    "import os\n",
    "import sys\n",
    "import unittest\n",
    "import pandas as pd\n",
    "\n",
    "parent_dir = os.path.normpath(os.path.join(os.getcwd(), '../..'))\n",
    "if parent_dir not in sys.path:\n",
    "    sys.path.insert(0, parent_dir)"
   ]
  },
  {
   "cell_type": "code",
   "execution_count": 11,
   "metadata": {},
   "outputs": [],
   "source": [
    "testacct=usAccount(5000)\n",
    "testacct.withdraw(300,'2019-10-27')\n",
    "testacct.deposit(5300,'2019-11-01')\n",
    "testacct.buy('AAPL',5,235,'2019-10-18')\n",
    "testacct.buy('AAPL',5,255,'2019-11-01')\n",
    "testacct.sell('AAPL',10,267,'2019-11-27')\n",
    "testacct.sell('GOOGL',2,1252,'2019-10-18')\n",
    "testacct.sell('GOOGL',1,1288,'2019-10-28')\n",
    "testacct.buy('GOOGL',4,1304,'2019-11-27')\n",
    "testacct.withdraw(500,'2019-11-29')"
   ]
  },
  {
   "cell_type": "code",
   "execution_count": 12,
   "metadata": {},
   "outputs": [
    {
     "data": {
      "text/html": [
       "<div>\n",
       "<style scoped>\n",
       "    .dataframe tbody tr th:only-of-type {\n",
       "        vertical-align: middle;\n",
       "    }\n",
       "\n",
       "    .dataframe tbody tr th {\n",
       "        vertical-align: top;\n",
       "    }\n",
       "\n",
       "    .dataframe thead th {\n",
       "        text-align: right;\n",
       "    }\n",
       "</style>\n",
       "<table border=\"1\" class=\"dataframe\">\n",
       "  <thead>\n",
       "    <tr style=\"text-align: right;\">\n",
       "      <th></th>\n",
       "      <th>Balance</th>\n",
       "      <th>Action</th>\n",
       "      <th>Stock</th>\n",
       "      <th>Amount</th>\n",
       "      <th>Price</th>\n",
       "      <th>Date</th>\n",
       "      <th>Previous_Balance</th>\n",
       "      <th>Commission</th>\n",
       "    </tr>\n",
       "  </thead>\n",
       "  <tbody>\n",
       "    <tr>\n",
       "      <th>0</th>\n",
       "      <td>8824</td>\n",
       "      <td>buy</td>\n",
       "      <td>AAPL</td>\n",
       "      <td>5</td>\n",
       "      <td>235</td>\n",
       "      <td>2019-10-18</td>\n",
       "      <td>10000</td>\n",
       "      <td>1</td>\n",
       "    </tr>\n",
       "    <tr>\n",
       "      <th>1</th>\n",
       "      <td>7548</td>\n",
       "      <td>buy</td>\n",
       "      <td>AAPL</td>\n",
       "      <td>5</td>\n",
       "      <td>255</td>\n",
       "      <td>2019-11-01</td>\n",
       "      <td>8824</td>\n",
       "      <td>1</td>\n",
       "    </tr>\n",
       "    <tr>\n",
       "      <th>2</th>\n",
       "      <td>10217</td>\n",
       "      <td>sell</td>\n",
       "      <td>AAPL</td>\n",
       "      <td>10</td>\n",
       "      <td>267</td>\n",
       "      <td>2019-11-27</td>\n",
       "      <td>7548</td>\n",
       "      <td>1</td>\n",
       "    </tr>\n",
       "    <tr>\n",
       "      <th>3</th>\n",
       "      <td>12720</td>\n",
       "      <td>sell</td>\n",
       "      <td>GOOGL</td>\n",
       "      <td>2</td>\n",
       "      <td>1252</td>\n",
       "      <td>2019-10-18</td>\n",
       "      <td>10217</td>\n",
       "      <td>1</td>\n",
       "    </tr>\n",
       "    <tr>\n",
       "      <th>4</th>\n",
       "      <td>14007</td>\n",
       "      <td>sell</td>\n",
       "      <td>GOOGL</td>\n",
       "      <td>1</td>\n",
       "      <td>1288</td>\n",
       "      <td>2019-10-28</td>\n",
       "      <td>12720</td>\n",
       "      <td>1</td>\n",
       "    </tr>\n",
       "    <tr>\n",
       "      <th>5</th>\n",
       "      <td>8790</td>\n",
       "      <td>buy</td>\n",
       "      <td>GOOGL</td>\n",
       "      <td>4</td>\n",
       "      <td>1304</td>\n",
       "      <td>2019-11-27</td>\n",
       "      <td>14007</td>\n",
       "      <td>1</td>\n",
       "    </tr>\n",
       "  </tbody>\n",
       "</table>\n",
       "</div>"
      ],
      "text/plain": [
       "  Balance Action  Stock Amount Price        Date Previous_Balance Commission\n",
       "0    8824    buy   AAPL      5   235  2019-10-18            10000          1\n",
       "1    7548    buy   AAPL      5   255  2019-11-01             8824          1\n",
       "2   10217   sell   AAPL     10   267  2019-11-27             7548          1\n",
       "3   12720   sell  GOOGL      2  1252  2019-10-18            10217          1\n",
       "4   14007   sell  GOOGL      1  1288  2019-10-28            12720          1\n",
       "5    8790    buy  GOOGL      4  1304  2019-11-27            14007          1"
      ]
     },
     "execution_count": 12,
     "metadata": {},
     "output_type": "execute_result"
    }
   ],
   "source": [
    "testacct.stock_history"
   ]
  },
  {
   "cell_type": "code",
   "execution_count": 13,
   "metadata": {},
   "outputs": [
    {
     "data": {
      "text/html": [
       "<div>\n",
       "<style scoped>\n",
       "    .dataframe tbody tr th:only-of-type {\n",
       "        vertical-align: middle;\n",
       "    }\n",
       "\n",
       "    .dataframe tbody tr th {\n",
       "        vertical-align: top;\n",
       "    }\n",
       "\n",
       "    .dataframe thead th {\n",
       "        text-align: right;\n",
       "    }\n",
       "</style>\n",
       "<table border=\"1\" class=\"dataframe\">\n",
       "  <thead>\n",
       "    <tr style=\"text-align: right;\">\n",
       "      <th></th>\n",
       "      <th>Balance</th>\n",
       "      <th>Action</th>\n",
       "      <th>Amount</th>\n",
       "      <th>Date</th>\n",
       "      <th>Previous_Balance</th>\n",
       "    </tr>\n",
       "  </thead>\n",
       "  <tbody>\n",
       "    <tr>\n",
       "      <th>0</th>\n",
       "      <td>4700</td>\n",
       "      <td>withdraw</td>\n",
       "      <td>300</td>\n",
       "      <td>2019-10-27</td>\n",
       "      <td>5000</td>\n",
       "    </tr>\n",
       "    <tr>\n",
       "      <th>1</th>\n",
       "      <td>10000</td>\n",
       "      <td>deposit</td>\n",
       "      <td>5300</td>\n",
       "      <td>2019-11-01</td>\n",
       "      <td>4700</td>\n",
       "    </tr>\n",
       "    <tr>\n",
       "      <th>2</th>\n",
       "      <td>8290</td>\n",
       "      <td>withdraw</td>\n",
       "      <td>500</td>\n",
       "      <td>2019-11-29</td>\n",
       "      <td>8790</td>\n",
       "    </tr>\n",
       "  </tbody>\n",
       "</table>\n",
       "</div>"
      ],
      "text/plain": [
       "  Balance    Action Amount        Date Previous_Balance\n",
       "0    4700  withdraw    300  2019-10-27             5000\n",
       "1   10000   deposit   5300  2019-11-01             4700\n",
       "2    8290  withdraw    500  2019-11-29             8790"
      ]
     },
     "execution_count": 13,
     "metadata": {},
     "output_type": "execute_result"
    }
   ],
   "source": [
    "testacct.account_history"
   ]
  },
  {
   "cell_type": "code",
   "execution_count": 14,
   "metadata": {},
   "outputs": [
    {
     "data": {
      "text/plain": [
       "{'AAPL': 0, 'GOOGL': 1}"
      ]
     },
     "execution_count": 14,
     "metadata": {},
     "output_type": "execute_result"
    }
   ],
   "source": [
    "testacct.stock"
   ]
  },
  {
   "cell_type": "code",
   "execution_count": 15,
   "metadata": {},
   "outputs": [
    {
     "data": {
      "text/plain": [
       "8290"
      ]
     },
     "execution_count": 15,
     "metadata": {},
     "output_type": "execute_result"
    }
   ],
   "source": [
    "testacct.balance"
   ]
  }
 ],
 "metadata": {
  "kernelspec": {
   "display_name": "Python 3",
   "language": "python",
   "name": "python3"
  },
  "language_info": {
   "codemirror_mode": {
    "name": "ipython",
    "version": 3
   },
   "file_extension": ".py",
   "mimetype": "text/x-python",
   "name": "python",
   "nbconvert_exporter": "python",
   "pygments_lexer": "ipython3",
   "version": "3.7.3"
  }
 },
 "nbformat": 4,
 "nbformat_minor": 2
}
